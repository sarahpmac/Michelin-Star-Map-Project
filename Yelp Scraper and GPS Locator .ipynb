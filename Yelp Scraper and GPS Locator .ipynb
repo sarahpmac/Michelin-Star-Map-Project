{
 "cells": [
  {
   "cell_type": "markdown",
   "metadata": {},
   "source": [
    "## Load Packages and Read in Frame with Restaurant Names"
   ]
  },
  {
   "cell_type": "code",
   "execution_count": 1,
   "metadata": {
    "collapsed": true
   },
   "outputs": [],
   "source": [
    "#General Packages\n",
    "import pandas as pd\n",
    "\n",
    "#Scraping Packages\n",
    "import requests\n",
    "from urllib.request import urlopen as url\n",
    "#import bs4\n",
    "from bs4 import BeautifulSoup as soup\n",
    "\n",
    "#Address Matching Package\n",
    "from geopy import geocoders"
   ]
  },
  {
   "cell_type": "code",
   "execution_count": 16,
   "metadata": {
    "collapsed": true
   },
   "outputs": [],
   "source": [
    "#Read in a list of 2019 Mich Starred Restaurants in Bay Area\n",
    "Mich_names = pd.read_excel(\"Mich Restaurants.xlsx\")\n",
    "names = Mich_names[\"Yelp_Name\"].tolist()"
   ]
  },
  {
   "cell_type": "markdown",
   "metadata": {},
   "source": [
    "## Scrape Restaurants' Business Info from Yelp \n",
    "### Data Scraped: address, price range, Yelp rating"
   ]
  },
  {
   "cell_type": "code",
   "execution_count": 17,
   "metadata": {
    "collapsed": true
   },
   "outputs": [],
   "source": [
    "def scrape_function(list):\n",
    "    \"\"\"Scrape Yelp info and put in csv\"\"\"    \n",
    "    filename=\"dfaddress.csv\"\n",
    "    f=open(filename,\"w\")\n",
    "    headers = \"Yelp_Name, Rating, Price, Street, City, State\"\n",
    "    f.write(headers)\n",
    "    for i in names: \n",
    "            my_url=\"https://www.yelp.com/biz/\"+str(i)+\"?start=\"\n",
    "            r = requests.get(my_url)\n",
    "            if r.status_code == 200: \n",
    "                request=url(my_url) \n",
    "                htmlscrap=request.read()\n",
    "                request.close()\n",
    "                page_soup=soup(htmlscrap,\"html.parser\")\n",
    "                street = 'Unknown' if page_soup.find_all('span', {'itemprop': 'streetAddress'})[0].string is None else\\\n",
    "                page_soup.find_all('span', {'itemprop': 'streetAddress'})[0].string\n",
    "                city = 'Unknown' if page_soup.find_all('span', {'itemprop': 'addressLocality'})[0].string is None else\\\n",
    "                page_soup.find_all('span', {'itemprop': 'addressLocality'})[0].string\n",
    "                rating = 'Unknown' if page_soup.find_all('meta', {'itemprop': 'ratingValue'})[0].get('content') is None else\\\n",
    "                page_soup.find_all('meta', {'itemprop': 'ratingValue'})[0].get('content')\n",
    "                price = 'Unknown' if page_soup.find_all('span', {'class': 'business-attribute price-range'})[0].string is None else\\\n",
    "                page_soup.find_all('span', {'class': 'business-attribute price-range'})[0].string\n",
    "                state = 'Unknown' if page_soup.find_all('span', {'itemprop': 'addressRegion'})[0].string is None else\\\n",
    "                page_soup.find_all('span', {'itemprop': 'addressRegion'})[0].string\n",
    "                f.write(\"\\n\" + str(i) +  \",\" + str(rating) + \",\" + str(price) + \",\" + str(street) + \",\" + str(city) + \",\" + str(state))\n",
    "            else: \n",
    "                f.write(\"\\n\" + str(i))\n",
    "    f.close()"
   ]
  },
  {
   "cell_type": "code",
   "execution_count": 18,
   "metadata": {
    "collapsed": true
   },
   "outputs": [],
   "source": [
    "scrape_function(names)"
   ]
  },
  {
   "cell_type": "markdown",
   "metadata": {},
   "source": [
    "## Match Restaurant Addresses With GPS Coordinates"
   ]
  },
  {
   "cell_type": "code",
   "execution_count": 26,
   "metadata": {},
   "outputs": [],
   "source": [
    "df = pd.read_csv(\"dfaddress.csv\")\n",
    "df[\"Address\"] = df[' Street'] + \", \" + df[' City'] + \", \" + df[' State']"
   ]
  },
  {
   "cell_type": "code",
   "execution_count": 27,
   "metadata": {
    "collapsed": true
   },
   "outputs": [],
   "source": [
    "api_key = \"Enter your API key here\"\n",
    "g = geocoders.GoogleV3(api_key=api_key)"
   ]
  },
  {
   "cell_type": "code",
   "execution_count": 28,
   "metadata": {
    "collapsed": true
   },
   "outputs": [],
   "source": [
    "#Match Restaurant Addresses With GPS Coordinates\n",
    "loc_coordinates = []\n",
    "loc_address = []\n",
    "\n",
    "for address in df[\"Address\"]:\n",
    "    try:\n",
    "        inputAddress = address\n",
    "        location = g.geocode(inputAddress, timeout=15)\n",
    "        loc_coordinates.append((location.latitude, location.longitude))\n",
    "        loc_address.append(inputAddress)\n",
    "    except:\n",
    "        print('Error, skipping address...')"
   ]
  },
  {
   "cell_type": "code",
   "execution_count": 29,
   "metadata": {
    "collapsed": true
   },
   "outputs": [],
   "source": [
    "#Concatonate the two lists together creating a dataframe of address and coordinates.\n",
    "df_geocodes = pd.DataFrame({'coordinate':loc_coordinates, 'Address':loc_address})"
   ]
  },
  {
   "cell_type": "markdown",
   "metadata": {},
   "source": [
    "# Merge Frames for Final Dataframe Which Will be Read into Tableau "
   ]
  },
  {
   "cell_type": "code",
   "execution_count": 30,
   "metadata": {
    "collapsed": true
   },
   "outputs": [],
   "source": [
    "Address = pd.merge(df, df_geocodes, how=\"left\")"
   ]
  },
  {
   "cell_type": "code",
   "execution_count": 31,
   "metadata": {
    "collapsed": true
   },
   "outputs": [],
   "source": [
    "Full = Address.merge(Mich_names)"
   ]
  },
  {
   "cell_type": "code",
   "execution_count": 33,
   "metadata": {},
   "outputs": [],
   "source": [
    "Full.to_csv(\"Full.csv\")"
   ]
  }
 ],
 "metadata": {
  "kernelspec": {
   "display_name": "Python 3",
   "language": "python",
   "name": "python3"
  },
  "language_info": {
   "codemirror_mode": {
    "name": "ipython",
    "version": 3
   },
   "file_extension": ".py",
   "mimetype": "text/x-python",
   "name": "python",
   "nbconvert_exporter": "python",
   "pygments_lexer": "ipython3",
   "version": "3.6.6"
  }
 },
 "nbformat": 4,
 "nbformat_minor": 2
}
